{
 "cells": [
  {
   "cell_type": "raw",
   "metadata": {},
   "source": [
    "1. Write a function that inputs a number and prints the multiplication table of that number\n"
   ]
  },
  {
   "cell_type": "code",
   "execution_count": 1,
   "metadata": {},
   "outputs": [
    {
     "name": "stdout",
     "output_type": "stream",
     "text": [
      "Enter the number 5\n",
      "5\n",
      "10\n",
      "15\n",
      "20\n",
      "25\n",
      "30\n",
      "35\n",
      "40\n",
      "45\n",
      "50\n"
     ]
    }
   ],
   "source": [
    "def multiplication_table(n):\n",
    "    for i in range(1,11):\n",
    "        print(i*n)\n",
    "n=int(input(\"Enter the number \"))\n",
    "multiplication_table(n)"
   ]
  },
  {
   "cell_type": "raw",
   "metadata": {},
   "source": [
    "2. Write a program to print twin primes less than 1000. If two consecutive odd numbers are\n",
    "both prime then they are known as twin primes"
   ]
  },
  {
   "cell_type": "code",
   "execution_count": 6,
   "metadata": {},
   "outputs": [
    {
     "name": "stdout",
     "output_type": "stream",
     "text": [
      "Twin prime less than 1000 :\n",
      "(3,5)\n",
      "(5,7)\n",
      "(11,13)\n",
      "(17,19)\n",
      "(29,31)\n",
      "(41,43)\n",
      "(59,61)\n",
      "(71,73)\n",
      "(101,103)\n",
      "(107,109)\n",
      "(137,139)\n",
      "(149,151)\n",
      "(179,181)\n",
      "(191,193)\n",
      "(197,199)\n",
      "(227,229)\n",
      "(239,241)\n",
      "(269,271)\n",
      "(281,283)\n",
      "(311,313)\n",
      "(347,349)\n",
      "(419,421)\n",
      "(431,433)\n",
      "(461,463)\n",
      "(521,523)\n",
      "(569,571)\n",
      "(599,601)\n",
      "(617,619)\n",
      "(641,643)\n",
      "(659,661)\n",
      "(809,811)\n",
      "(821,823)\n",
      "(827,829)\n",
      "(857,859)\n",
      "(881,883)\n"
     ]
    }
   ],
   "source": [
    "def isprime(num):\n",
    "    for i in range(2,num):\n",
    "        if num % i == 0:\n",
    "            return False\n",
    "    return True\n",
    "\n",
    "print(\"Twins prime less than 1000 :\")\n",
    "for i in range(2,1001):\n",
    "    j=i+2\n",
    "    if isprime(i) and isprime(j):\n",
    "        print(\"({0},{1})\".format(i,j))\n",
    "      "
   ]
  },
  {
   "cell_type": "raw",
   "metadata": {},
   "source": [
    "3. Write a program to find out the prime factors of a number. Example: prime factors of 56 -\n",
    "2, 2, 2, 7"
   ]
  },
  {
   "cell_type": "code",
   "execution_count": 1,
   "metadata": {},
   "outputs": [
    {
     "name": "stdout",
     "output_type": "stream",
     "text": [
      "Enter the number : 56\n",
      "2\n",
      "2\n",
      "2\n",
      "7.0\n"
     ]
    }
   ],
   "source": [
    "import math  #Refrence geeksforgeeks\n",
    "def prime_factors(n):\n",
    "    while n%2==0: #if the number is even\n",
    "        print(2)\n",
    "        n=n/2\n",
    "    \n",
    "     \n",
    "    for i in range(3,int(math.sqrt(n))+1,2):    #if the number is odd\n",
    "        while n%i==0:\n",
    "            print(i)\n",
    "            n/=i\n",
    "            \n",
    "    if(n>2):  #if the number is prime and greater than 2\n",
    "        print(n)\n",
    "        \n",
    "num=int(input(\"Enter the number : \"))       \n",
    "prime_factors(num) "
   ]
  },
  {
   "cell_type": "raw",
   "metadata": {},
   "source": [
    "4. Write a program to implement these formulae of permutations and combinations.\n",
    "Number of permutations of n objects taken r at a time: p(n, r) = n! / (n-r)!. Number of\n",
    "combinations of n objects taken r at a time is: c(n, r) = n! / (r!*(n-r)!) = p(n,r) / r!"
   ]
  },
  {
   "cell_type": "code",
   "execution_count": 11,
   "metadata": {},
   "outputs": [
    {
     "name": "stdout",
     "output_type": "stream",
     "text": [
      "Enter the value of n :5\n",
      "Enter the value of r :2\n",
      "Permutation is : 20.0 \n",
      "Combination is : 0.16666666666666666 \n"
     ]
    }
   ],
   "source": [
    "def factorial(n):\n",
    "    if(n<=1):\n",
    "        return 1\n",
    "    else:\n",
    "        return n*factorial(n-1)\n",
    "\n",
    "n=int(input(\"Enter the value of n :\"))\n",
    "r=int(input(\"Enter the value of r :\"))\n",
    "\n",
    "nPr=factorial(n)/factorial(n-r)   #permutation calculation\n",
    "nCr=nPr/factorial(n)              #combination calculation\n",
    "\n",
    "print(\"Permutation is : {} \".format(nPr))\n",
    "print(\"Combination is : {} \".format(nCr))\n"
   ]
  },
  {
   "cell_type": "raw",
   "metadata": {},
   "source": [
    "5. Write a function that converts a decimal number to binary number"
   ]
  },
  {
   "cell_type": "code",
   "execution_count": 1,
   "metadata": {},
   "outputs": [
    {
     "name": "stdout",
     "output_type": "stream",
     "text": [
      "1010 \n"
     ]
    }
   ],
   "source": [
    "def decimal_to_binary(num):\n",
    "    bin=' ' #empty string\n",
    "    while(num>0):\n",
    "        if(num%2==0):\n",
    "            bin+='0'\n",
    "        else:\n",
    "            bin+='1'\n",
    "        num=num//2\n",
    "    binary_num=''.join(reversed(bin))\n",
    "    print(binary_num)\n",
    "decimal_to_binary(10)"
   ]
  },
  {
   "cell_type": "raw",
   "metadata": {},
   "source": [
    "6. Write a function cubesum() that accepts an integer and returns the sum of the cubes of\n",
    "individual digits of that number. Use this function to make functions PrintArmstrong() and\n",
    "isArmstrong() to print Armstrong numbers and to find whether is an Armstrong number."
   ]
  },
  {
   "cell_type": "code",
   "execution_count": 48,
   "metadata": {},
   "outputs": [
    {
     "name": "stdout",
     "output_type": "stream",
     "text": [
      "153 is a Armstrong Number\n",
      "Armstrong Numbers less than 1000\n",
      "1\n",
      "153\n",
      "370\n",
      "371\n",
      "407\n"
     ]
    }
   ],
   "source": [
    "def cubesum(n):\n",
    "    sum=0\n",
    "    while n>0:\n",
    "        rem=n%10\n",
    "        sum=sum+rem**3\n",
    "        n=n//10\n",
    "    return sum\n",
    "\n",
    "\n",
    "\n",
    "def isArmstrong(n):\n",
    "    if n==cubesum(n):\n",
    "        print(\"{} is a Armstrong Number\".format(n))\n",
    "    else:\n",
    "        print(\"{} is not a Armstrong Number\".format(n))\n",
    "\n",
    "isArmstrong(153)\n",
    "\n",
    "\n",
    "print(\"Armstrong Numbers less than 1000\")\n",
    "def PrintArmstrong():\n",
    "    for i in range(1,1001):\n",
    "        if i==cubesum(i):\n",
    "            print(i)\n",
    "PrintArmstrong()"
   ]
  },
  {
   "cell_type": "raw",
   "metadata": {},
   "source": [
    "7. Write a function prodDigits() that inputs a number and returns the product of digits of that\n",
    "number."
   ]
  },
  {
   "cell_type": "code",
   "execution_count": 2,
   "metadata": {},
   "outputs": [
    {
     "name": "stdout",
     "output_type": "stream",
     "text": [
      "Enter a number 56\n"
     ]
    },
    {
     "data": {
      "text/plain": [
       "30"
      ]
     },
     "execution_count": 2,
     "metadata": {},
     "output_type": "execute_result"
    }
   ],
   "source": [
    "def prodDigits(n):\n",
    "    prod=1\n",
    "    while n>0:\n",
    "        rem=n%10\n",
    "        prod=prod*rem\n",
    "        n=n//10\n",
    "    return prod\n",
    "num=int(input(\"Enter a number \"))\n",
    "prodDigits(num)"
   ]
  },
  {
   "cell_type": "raw",
   "metadata": {},
   "source": [
    "8. If all digits of a number n are multiplied by each other repeating with the product, the one\n",
    "digit number obtained at last is called the multiplicative digital root of n. The number of\n",
    "times digits need to be multiplied to reach one digit is called the multiplicative\n",
    "persistance of n.\n",
    "Example: 86 -> 48 -> 32 -> 6 (MDR 6, MPersistence 3)\n",
    "341 -> 12->2 (MDR 2, MPersistence 2)\n",
    "Using the function prodDigits() of previous exercise write functions MDR() and\n",
    "MPersistence() that input a number and return its multiplicative digital root and\n",
    "multiplicative persistence respectively"
   ]
  },
  {
   "cell_type": "code",
   "execution_count": 3,
   "metadata": {},
   "outputs": [
    {
     "name": "stdout",
     "output_type": "stream",
     "text": [
      "Enter the number 341\n",
      "MDR is 2\n",
      "Enter the number 341\n",
      "MPersistance is 2\n"
     ]
    }
   ],
   "source": [
    "def prodDigits(n):\n",
    "    prod=1\n",
    "    while n>0:\n",
    "        rem=n%10\n",
    "        prod=prod*rem\n",
    "        n=n//10\n",
    "    return prod\n",
    "\n",
    "def MDR():\n",
    "    k= int(input(\"Enter the number \"))\n",
    "    while(k//10 >0):\n",
    "        k=prodDigits(k)\n",
    "    print(\"MDR is \"+str(k))\n",
    "\n",
    "MDR()\n",
    "\n",
    "def MPersistance():\n",
    "    i=0\n",
    "    k= int(input(\"Enter the number \"))\n",
    "    while(k//10 >0):\n",
    "        k=prodDigits(k)\n",
    "        i=i+1\n",
    "    print(\"MPersistance is \"+str(i))\n",
    "MPersistance()    "
   ]
  },
  {
   "cell_type": "raw",
   "metadata": {},
   "source": [
    "9. Write a function sumPdivisors() that finds the sum of proper divisors of a number. Proper\n",
    "divisors of a number are those numbers by which the number is divisible, except the\n",
    "number itself. For example proper divisors of 36 are 1, 2, 3, 4, 6, 9, 12,18"
   ]
  },
  {
   "cell_type": "code",
   "execution_count": 60,
   "metadata": {},
   "outputs": [
    {
     "data": {
      "text/plain": [
       "55"
      ]
     },
     "execution_count": 60,
     "metadata": {},
     "output_type": "execute_result"
    }
   ],
   "source": [
    "def sumPdivisors(n):\n",
    "    sum=0\n",
    "    for i in range(1,n):\n",
    "        if n%i==0:\n",
    "            sum=sum+i\n",
    "        \n",
    "    return sum\n",
    "sumPdivisors(36)"
   ]
  },
  {
   "cell_type": "raw",
   "metadata": {},
   "source": [
    "10. A number is called perfect if the sum of proper divisors of that number is equal to the\n",
    "number. For example 28 is perfect number, since 1+2+4+7+14=28. Write a program to\n",
    "print all the perfect numbers in a given range"
   ]
  },
  {
   "cell_type": "code",
   "execution_count": 2,
   "metadata": {},
   "outputs": [
    {
     "name": "stdout",
     "output_type": "stream",
     "text": [
      "[6, 28, 496]\n"
     ]
    }
   ],
   "source": [
    "def sumPdivisors(n):\n",
    "    sum=0\n",
    "    for i in range(1,n):\n",
    "        if n%i==0:\n",
    "            sum=sum+i\n",
    "    return sum\n",
    "\n",
    "lst=[]\n",
    "for i in range(1,1000):\n",
    "    if sumPdivisors(i)==i:\n",
    "        lst.append(i)\n",
    "print(lst)"
   ]
  },
  {
   "cell_type": "raw",
   "metadata": {},
   "source": [
    "11. Two different numbers are called amicable numbers if the sum of the proper divisors of\n",
    "each is equal to the other number. For example 220 and 284 are amicable numbers.\n",
    "\n",
    "Sum of proper divisors of 220 = 1+2+4+5+10+11+20+22+44+55+110 = 284\n",
    "Sum of proper divisors of 284 = 1+2+4+71+142 = 220\n",
    "Write a function to print pairs of amicable numbers in a range"
   ]
  },
  {
   "cell_type": "code",
   "execution_count": 5,
   "metadata": {},
   "outputs": [
    {
     "name": "stdout",
     "output_type": "stream",
     "text": [
      "Enter the range 3000\n",
      "[[220, 284], [1184, 1210], [2620, 2924]]\n"
     ]
    }
   ],
   "source": [
    "def divisors_sum(n):\n",
    "    sum=0\n",
    "    for i in range(1,n):\n",
    "        if n%i==0:\n",
    "            sum+=i\n",
    "    return sum\n",
    "\n",
    "lst=[ ]\n",
    "n=int(input(\"Enter the range \"))\n",
    "for i in range(1,n+1):\n",
    "    for j in range(i+1,n+1):\n",
    "        if divisors_sum(i)==j and divisors_sum(j)==i:\n",
    "            lst.append([i,j])\n",
    "print(lst)\n"
   ]
  },
  {
   "cell_type": "raw",
   "metadata": {},
   "source": [
    "12. Write a program which can filter odd numbers in a list by using filter function"
   ]
  },
  {
   "cell_type": "code",
   "execution_count": 69,
   "metadata": {},
   "outputs": [
    {
     "name": "stdout",
     "output_type": "stream",
     "text": [
      "[1, 3, 5, 7, 9]\n"
     ]
    }
   ],
   "source": [
    "def find_odd_num(num):\n",
    "    if(num%2!=0):\n",
    "        return num\n",
    "    \n",
    "lst=[1,2,3,4,5,6,7,8,9,10]\n",
    "odd_num_list=list(filter(find_odd_num,lst))\n",
    "print(odd_num_list)"
   ]
  },
  {
   "cell_type": "raw",
   "metadata": {},
   "source": [
    "13. Write a program which can map() to make a list whose elements are cube of elements in\n",
    "a given list"
   ]
  },
  {
   "cell_type": "code",
   "execution_count": 70,
   "metadata": {},
   "outputs": [
    {
     "name": "stdout",
     "output_type": "stream",
     "text": [
      "[1, 8, 27, 64, 125, 216, 343, 512, 729, 1000]\n"
     ]
    }
   ],
   "source": [
    "def calc_cube(num):\n",
    "    return num**3\n",
    "lst=[1,2,3,4,5,6,7,8,9,10]\n",
    "cube_list=list(map(calc_cube,lst))\n",
    "print(cube_list)"
   ]
  },
  {
   "cell_type": "raw",
   "metadata": {},
   "source": [
    "14. Write a program which can map() and filter() to make a list whose elements are cube of\n",
    "even number in a given list"
   ]
  },
  {
   "cell_type": "code",
   "execution_count": 72,
   "metadata": {},
   "outputs": [
    {
     "name": "stdout",
     "output_type": "stream",
     "text": [
      "[8, 64, 216, 512, 1000]\n"
     ]
    }
   ],
   "source": [
    "def find_even_num(num):\n",
    "    if(num%2==0):\n",
    "        return num\n",
    "\n",
    "def calc_cube(num):\n",
    "    return num**3\n",
    "\n",
    "lst=[1,2,3,4,5,6,7,8,9,10]\n",
    "even_num_list=list(filter(find_even_num,lst))\n",
    "cube_list=list(map(calc_cube,even_num_list))\n",
    "print(cube_list)"
   ]
  },
  {
   "cell_type": "code",
   "execution_count": null,
   "metadata": {},
   "outputs": [],
   "source": []
  }
 ],
 "metadata": {
  "kernelspec": {
   "display_name": "Python 3",
   "language": "python",
   "name": "python3"
  },
  "language_info": {
   "codemirror_mode": {
    "name": "ipython",
    "version": 3
   },
   "file_extension": ".py",
   "mimetype": "text/x-python",
   "name": "python",
   "nbconvert_exporter": "python",
   "pygments_lexer": "ipython3",
   "version": "3.6.5"
  }
 },
 "nbformat": 4,
 "nbformat_minor": 2
}
